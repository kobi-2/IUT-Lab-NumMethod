{
  "nbformat": 4,
  "nbformat_minor": 0,
  "metadata": {
    "colab": {
      "name": "Numericals [Math 4544 Lab 03] - Nonlinear Regression.ipynb",
      "provenance": [],
      "collapsed_sections": [],
      "include_colab_link": true
    },
    "kernelspec": {
      "name": "python3",
      "display_name": "Python 3"
    }
  },
  "cells": [
    {
      "cell_type": "markdown",
      "metadata": {
        "id": "view-in-github",
        "colab_type": "text"
      },
      "source": [
        "<a href=\"https://colab.research.google.com/github/kobi-2/IUT-Lab-NumMethod/blob/main/Numericals_%5BMath_4544_Lab_03%5D_Nonlinear_Regression.ipynb\" target=\"_parent\"><img src=\"https://colab.research.google.com/assets/colab-badge.svg\" alt=\"Open In Colab\"/></a>"
      ]
    },
    {
      "cell_type": "markdown",
      "metadata": {
        "id": "iGEwlD2aOu2q"
      },
      "source": [
        "\n",
        "<h1> Math 4544 Numerical Analysis Lab</h1>\n",
        "<h2> Lab 04 <h2>\n",
        "\n",
        "The Objectives of this weeks lab is to implement and understand non-linear regression.Non-linear regression is often used to find the regression model because the data can be produced from a non-linear system. In this model, we wish to predict response to $n$ data points $(x_{1} ,y_{1}),(x_{2} ,y_{2}),......,(x_{n} ,y_{n}) $ by a regression models given by<br>\n",
        "> $γ = Ae^{λt} .................................(1)$ <br>\n",
        "\n",
        "where $A$ and $λ$ are the constants of the regression model.\n",
        "A measure of goodness of fit, that is, how well $Ae^{λt}$ predicts the response variable\n",
        "$γ $ is the magnitude of the residual $ε_{i}$ at each of the $n$ data points. <br>\n",
        "> $E_{i} = γ_{i} -Ae^{λt_{i}} ...........................(2)$ <br>\n",
        "\n",
        "For more on non-linear interpolation, please visit the class [lecture.](http://mathforcollege.com/nm/mws/gen/06reg/mws_gen_reg_txt_nonlinear.pdf) Go to  [matplotlib.pyplot tutorials](https://matplotlib.org/gallery/index.html#pyplot) for all kinds of help regarding plot.  \n"
      ]
    },
    {
      "cell_type": "markdown",
      "metadata": {
        "id": "yh3QEXQ2eP44"
      },
      "source": [
        "## Task 01 ##\n",
        "To find the contraction of a steel cylinder, one needs to regress the thermal expansion coefficient data to temperature. The thermal expansion coefficient at given different temperatures are given below in the table. Fit the given data to the regression model\n",
        "> $ α = a_{0} + a_{1}T + a_{2}T^{2} $\n",
        "\n",
        "|Temperature <br> F|Coefficient <br> α |\n",
        "|---|---|\n",
        "|80|6.47e-6|\n",
        "|40|6.24e-6|\n",
        "|-40|5.72e-6|\n",
        "|-120|5.09e-6|\n",
        "|-200|4.30e-6|\n",
        "|-280|3.33e-6|\n",
        "|-340|2.45e-6|\n",
        "|---|---|\n",
        "\n"
      ]
    },
    {
      "cell_type": "code",
      "metadata": {
        "id": "9K1_j7Vil9u9"
      },
      "source": [
        "import numpy as np\n",
        "import sympy as sym\n",
        "import matplotlib.pyplot as plt"
      ],
      "execution_count": null,
      "outputs": []
    },
    {
      "cell_type": "code",
      "metadata": {
        "id": "h0g_qQ8UVwRa",
        "outputId": "e973465c-c05b-452e-db23-3c57a5b204f6",
        "colab": {
          "base_uri": "https://localhost:8080/",
          "height": 295
        }
      },
      "source": [
        "#Dataset description for Task 01  \n",
        "\n",
        "\n",
        "T = np.array([80,   40, -40,-120,-200,-280,-340])\n",
        "alpha = np.array([6.47e-6,  6.24e-6,    5.72e-6,    5.09e-6,\n",
        "                  4.30e-6,  3.33e-6,    2.45e-6])\n",
        "\n",
        "plt.plot(T, alpha, label='Original Data ', marker='*')\n",
        "plt.title('Relation between T and Alpha')\n",
        "plt.xlabel('Temperature')\n",
        "plt.ylabel('Coefficient')\n",
        "plt.legend()\n",
        "plt.show()"
      ],
      "execution_count": null,
      "outputs": [
        {
          "output_type": "display_data",
          "data": {
            "image/png": "[encoded data removed]",
            "text/plain": [
              "<Figure size 432x288 with 1 Axes>"
            ]
          },
          "metadata": {
            "tags": [],
            "needs_background": "light"
          }
        }
      ]
    },
    {
      "cell_type": "code",
      "metadata": {
        "id": "yd8wE_d1gGfH"
      },
      "source": [
        "def expression_maker(coef, var):\n",
        "    [n, m] = coef.shape\n",
        "    eq = str(coef[0][0]) \n",
        "    for i in range(1, n):\n",
        "        if(i<2):\n",
        "            eq = eq + str('+') + str(coef[i][0]) + str('*') + var\n",
        "        else:\n",
        "            eq = eq + str('+') + str(coef[i][0]) + str('*') + var+'**'+str(i)\n",
        "    return eq"
      ],
      "execution_count": null,
      "outputs": []
    },
    {
      "cell_type": "code",
      "metadata": {
        "id": "mkfopO8GNGha"
      },
      "source": [
        "def nonlinear_polynomial(T, alpha, order=2):\n",
        "    n = len(T)\n",
        "    M=np.zeros((order+1, order+1))\n",
        "    M[0][0]=n\n",
        "    b = np.zeros((order+1, 1))\n",
        "\n",
        "    for i in range(order+1):\n",
        "        if(i==0):\n",
        "            b[i][0] =np.sum(alpha)\n",
        "        else:\n",
        "            b[i][0] = np.sum(np.power(T, i) * alpha)\n",
        "    # print(b)\n",
        "    for i in range(order+1):\n",
        "        for j in range(order+1):\n",
        "            if(i+j ==0):\n",
        "                M[i][j]=n\n",
        "            else:\n",
        "                M[i][j] = np.sum(np.power(T, i+j))\n",
        "    #Coefficients\n",
        "    A = np.matmul(np.linalg.inv(M), b)\n",
        "    # print(A)\n",
        "\n",
        "    t=sym.symbols('t')\n",
        "    ex = expression_maker(A,'t')\n",
        "    ex\n",
        "    alph = sym.sympify(ex)\n",
        "    print(alph)\n",
        "\n",
        "\n",
        "    T_new = np.arange(start=T[0], stop=T[n-1], step=(T[n-1]-T[0])/200)\n",
        "    # print(T_new)\n",
        "    alpha_new = []\n",
        "    m = len(T_new)\n",
        "    for i in range(m):\n",
        "        alpha_new.append(alph.subs(t, T_new[i]))\n",
        "    # print(alpha_new)\n",
        "\n",
        "    # Comparative plotting\n",
        "    #plt.scatter(T,alpha, label='Original Points', color = 'b')\n",
        "    plt.plot(T,alpha, label = 'Normal Approximation', color='b', marker='*')\n",
        "    plt.plot(T_new, alpha_new, label = 'Regression', color = 'r')\n",
        "    plt.title('Regression test')\n",
        "    plt.xlabel('Strain, (m/m))')\n",
        "    plt.ylabel('Stress, Pa')\n",
        "    plt.legend()\n",
        "    plt.show()\n",
        "\n",
        "\n"
      ],
      "execution_count": null,
      "outputs": []
    },
    {
      "cell_type": "code",
      "metadata": {
        "id": "cP2brxaFq39o",
        "outputId": "f333686d-4e35-4536-b0eb-05bff8f8d967",
        "colab": {
          "base_uri": "https://localhost:8080/",
          "height": 313
        }
      },
      "source": [
        "nonlinear_polynomial(T,alpha, 4)"
      ],
      "execution_count": null,
      "outputs": [
        {
          "output_type": "stream",
          "text": [
            "-8.350299172022808e-22*t**4 + 1.2379288556382532e-14*t**3 - 7.38222826799914e-12*t**2 + 6.476630333564924e-9*t + 5.992418291742641e-6\n"
          ],
          "name": "stdout"
        },
        {
          "output_type": "display_data",
          "data": {
            "image/png": "[encoded data removed]",
            "text/plain": [
              "<Figure size 432x288 with 1 Axes>"
            ]
          },
          "metadata": {
            "tags": [],
            "needs_background": "light"
          }
        }
      ]
    },
    {
      "cell_type": "code",
      "metadata": {
        "id": "xDYcBTyLoMLq"
      },
      "source": [
        "T_new = np.arange(start=T[0], stop=T[n-1], step=(T[n-1]-T[0])/200)\n",
        "print(T_new)\n",
        "alpha_new = []\n",
        "m = len(T_new)\n",
        "for i in range(m):\n",
        "    alpha_new.append(alph.subs(t, T_new[i]))\n",
        "print(alpha_new)\n",
        "\n",
        "# Comparative plotting\n",
        "#plt.scatter(T,alpha, label='Original Points', color = 'b')\n",
        "plt.plot(T,alpha, label = 'Normal Approximation', color='b', marker='*')\n",
        "plt.plot(T_new, alpha_new, label = 'Regression', color = 'r')\n",
        "plt.title('Regression test')\n",
        "plt.xlabel('Strain, (m/m))')\n",
        "plt.ylabel('Stress, Pa')\n",
        "plt.legend()\n",
        "plt.show()"
      ],
      "execution_count": null,
      "outputs": []
    },
    {
      "cell_type": "markdown",
      "metadata": {
        "id": "yEr1wdfykqYq"
      },
      "source": [
        "## Task 02 ##\n",
        "To find the longtidinal modulous of a composite materials, the follwoing data, as given in the table is collected.\n",
        "\n",
        "| Strain [m/m] |  Stress [Pa] |\n",
        "| --- | --- | \n",
        "| 0 | 0 | \n",
        "| 0.183 | 306 | \n",
        "| 0.36 | 612 | \n",
        "| 0.5224 | 917 | \n",
        "| 0.702 | 1223 | \n",
        "| 0.867 | 1529 | \n",
        "| 1.0244 | 1835 | \n",
        "| 1.1774 | 2140 | \n",
        "| 1.329 | 2446 | \n",
        "| 1.479 | 2752 |\n",
        "| 1.5 | 2767 | \n",
        "| 1.56 | 2896 | \n",
        "\n",
        "Find the longitudinal modulous $E$ using the regression model  $ σ = Eε$\n",
        "\n"
      ]
    },
    {
      "cell_type": "code",
      "metadata": {
        "id": "MKzKSqcZTEtX"
      },
      "source": [
        "# Dataset description for Task 02\n",
        "strain = np.array([0.0000,      1.83e-3,    3.6e-3,  \n",
        "                   5.324e-3,    7.020e-3,   8.67e-3,\n",
        "                   1.0244e-2,   1.1774e-2,  1.329e-2,\n",
        "                   1.479e-2,    1.5e-2,     1.56e-2])\n",
        "\n",
        "stress = np.array([ 0.000,    3.06e8,     6.12e8, \n",
        "                    9.17e8,   1.22e9,     1.529e9, \n",
        "                    1.835e9,  2.14e9,     2.446e9,\n",
        "                    2.752e9,  2.767e9,    2.896e9 ])"
      ],
      "execution_count": null,
      "outputs": []
    },
    {
      "cell_type": "code",
      "metadata": {
        "id": "EeN2KuL1TVM9",
        "outputId": "74e105b3-d301-41b5-daa1-9e056a8f298d",
        "colab": {
          "base_uri": "https://localhost:8080/",
          "height": 312
        }
      },
      "source": [
        "x = strain\n",
        "y = stress\n",
        "\n",
        "#Calculating the values of k1 and k2\n",
        "n = len(x)\n",
        "x_squared = np.multiply(x,x)\n",
        "xy = np.multiply(x,y)\n",
        "E = float(np.sum(xy)/np.sum(x_squared))\n",
        "print('The value of E is: ' , E)\n",
        "\n",
        "# Taking data points for line plot\n",
        "eps = sym.symbols('eps')\n",
        "sigma = E * eps\n",
        "x_range = np.arange(start = x[0], stop=x[len(x)-1], step = 0.0001 )\n",
        "y_pred = np.arange(start = x[0], stop=x[len(x)-1], step = 0.0001 )\n",
        "m=len(x_range)\n",
        "for i in range(m):\n",
        "    y_pred[i] = sigma.subs(eps, x_range[i])\n",
        "\n",
        "# Comparative plotting\n",
        "plt.scatter(x,y, label='Original Points', color = 'b')\n",
        "# plt.plot(x,y, label = 'Normal Approximation', color='g')\n",
        "plt.plot(x_range, y_pred, label = 'Regression', color = 'r')\n",
        "plt.title('Regression test')\n",
        "plt.xlabel('Strain, (m/m))')\n",
        "plt.ylabel('Stress, Pa')\n",
        "plt.legend()\n",
        "plt.show()"
      ],
      "execution_count": null,
      "outputs": [
        {
          "output_type": "stream",
          "text": [
            "The value of E is:  182820907110.36127\n"
          ],
          "name": "stdout"
        },
        {
          "output_type": "display_data",
          "data": {
            "image/png": "[encoded data removed]",
            "text/plain": [
              "<Figure size 432x288 with 1 Axes>"
            ]
          },
          "metadata": {
            "tags": []
          }
        }
      ]
    },
    {
      "cell_type": "markdown",
      "metadata": {
        "id": "dPUi_mf8pjEL"
      },
      "source": [
        "### Observations ###"
      ]
    },
    {
      "cell_type": "markdown",
      "metadata": {
        "id": "voDeZ92iJtNv"
      },
      "source": [
        "## Task 03 ## \n",
        "Many patients get concerned when a test involves injection of a radioactive material.  For example for scanning a gallbladder, a few drops of $Technetium-99m$ isotope is used.  Half of the $Technetium-99m$ would be gone in about 6 hours.  It, however, takes about 24 hours for the radiation levels to reach what we are exposed to in day-to-day activities.  Below is given the relative intensity of radiation as a function of time.The following table gives Relative intensity of radiation as a function of time\n",
        "\n",
        "|t (hrs)|0|1|3|5|7|9|\n",
        "|---|---|---| ---|---|---|---|\n",
        "|1.000|0.891|0.708|0.562|0.447|0.355|\n",
        "\n",
        "If the level of the relative intensity of radiation is related to time via an exponential formula $γ = Ae^{λt}$, then find the following. \n",
        "\n",
        "1. the value of the regression constants  and ,\n",
        "2. the half-life of Technium-99m, and\n",
        "3. the radiation intensity after 24 hours.\n",
        "\n",
        "\n"
      ]
    },
    {
      "cell_type": "markdown",
      "metadata": {
        "id": "VGkCBWN3LOYF"
      },
      "source": [
        "## Solution: ## \n",
        "$$\\gamma = Ae^{\\lambda t}..........................(1)$$\n",
        "$$ln(\\gamma) = ln(A) + \\lambda t$$\n",
        "Assuming that\n",
        "$$y = ln(\\gamma)$$\n",
        "$$a_{0} = ln(A)$$\n",
        "$$ a_{1} = \\lambda$$\n",
        "Thus we get\n",
        "$$y = a_{0} + a_{1}t$$\n",
        "This is a linear relation between $y$ andn $t$\n",
        "Here the solution of the linear regression model will be as follows\n",
        "$$a_{1} = \\frac{n\\sum_{i=1}^{n}t_{i}y_{i} -\\sum_{i=1}^{n}t_{i}\\sum_{i=1}^{n}y_{i}   }              {n\\sum_{i=1}^{n}t_{i}^{2} - (\\sum_{i=1}^{n}t_{i})^{2}}$$ <br>\n",
        "$$a_{0} = \\bar{y} -a_{1}\\bar{t}$$<br>\n",
        "\n",
        "Now to get back to the equation(1) we calculate the following. \n",
        "$$A = e^{a_{0}}    $$and$$ \\lambda = a_{1}$$\n"
      ]
    },
    {
      "cell_type": "code",
      "metadata": {
        "id": "MCaZUBuUJun2"
      },
      "source": [
        "#Solution Code:\n",
        "t = np.array([0,1,3,5,7,9])\n",
        "gamma = np.array([1, 0.895, 0.708, 0.562, 0.447, 0.355])\n"
      ],
      "execution_count": null,
      "outputs": []
    },
    {
      "cell_type": "code",
      "metadata": {
        "id": "q-jHC5wHhIkX"
      },
      "source": [
        "def least_square_method(x,y):\n",
        "    xy= x*y\n",
        "    x_sq = np.power(x, 2) \n",
        "    n = len(x)\n",
        "    a1 = (n*np.sum(xy)-np.sum(x)*np.sum(y))/(n*np.sum(x_sq) - np.power(np.sum(x), 2))\n",
        "    a0 = np.mean(y) - a1*np.mean(x)\n",
        "    return [a1, a0]\n"
      ],
      "execution_count": null,
      "outputs": []
    },
    {
      "cell_type": "code",
      "metadata": {
        "id": "yYk6vBRPQm7T"
      },
      "source": [
        "def exponential_regression(x, gamma):\n",
        "    y = np.log(gamma)\n",
        "    # xy= x*y\n",
        "    # x_sq = np.power(x, 2) \n",
        "    # n = len(x)\n",
        "    # a1 = (n*np.sum(xy)-np.sum(x)*np.sum(y))/(n*np.sum(x_sq) - np.power(np.sum(x), 2))\n",
        "    # a0 = np.mean(y) - a1*np.mean(x)\n",
        "    [a1, a0]=least_square_method(x, y)\n",
        "\n",
        "    A = np.exp(a0)\n",
        "    lambd = a1\n",
        "    e = np.exp(1)\n",
        "    k = sym.symbols('k')\n",
        "    regr = A * e**(lambd*k)\n",
        "    \n",
        "    y1=[]\n",
        "    n=len(x)\n",
        "    for i in range(n):\n",
        "        y1.append(regr.subs(k, x[i]))\n",
        "    \n",
        "    print(y1)\n",
        "    \n",
        "    plt.plot(x, gamma, marker='*', color='b', label='Original Points')\n",
        "    plt.plot(x, y1, marker='*', color='r', label='Regression')\n",
        "    plt.title('Radioactive decay with time')\n",
        "    plt.xlabel('Time (hour)')\n",
        "    plt.ylabel('Remaining amount')\n",
        "    plt.legend()\n",
        "    plt.show\n",
        "    \n",
        "    "
      ],
      "execution_count": null,
      "outputs": []
    },
    {
      "cell_type": "code",
      "metadata": {
        "id": "Zju9AWdWRNFD"
      },
      "source": [
        "exponential_regression(t, gamma)"
      ],
      "execution_count": null,
      "outputs": []
    },
    {
      "cell_type": "markdown",
      "metadata": {
        "id": "qkwGW3NnVkh_"
      },
      "source": [
        "## Task 04 ##\n",
        "To be able to draw road networks from aerial images, light intensities are measured at different pixel locations. The following intensities are given as a function of pixel location.\n",
        "\n",
        "|Pixel Location, (k)| Intensity (y)|\n",
        "|---|---|\n",
        "|-3|119|\n",
        "|-2|165|\n",
        "|-1|231|\n",
        "|0|243|\n",
        "|1|244|\n",
        "|2|214|\n",
        "|3|136|\n",
        "\n",
        "Regress the above data to a second order polynomial given by\n",
        "$$ y = a_{0} + a_{1}k + a_{2}k^{2}$$"
      ]
    },
    {
      "cell_type": "code",
      "metadata": {
        "id": "FTxE1V2tRPQq",
        "outputId": "808416cf-68f2-48e4-a1b1-42ea688939dc",
        "colab": {
          "base_uri": "https://localhost:8080/",
          "height": 312
        }
      },
      "source": [
        "# Solution Code:\n",
        "# Using the nth polynomial regressor created above by the name nonlinear_polynomial()\n",
        "k = np.array([-3,-2,-1,0,1,2,3])\n",
        "y = np.array([119,165,231,243,244,214,136])\n",
        "\n",
        "nonlinear_polynomial(k, y, order=2)"
      ],
      "execution_count": null,
      "outputs": [
        {
          "output_type": "stream",
          "text": [
            "-13.357142857142861*t**2 + 5.785714285714286*t + 246.57142857142856\n"
          ],
          "name": "stdout"
        },
        {
          "output_type": "display_data",
          "data": {
            "image/png": "[encoded data removed]",
            "text/plain": [
              "<Figure size 432x288 with 1 Axes>"
            ]
          },
          "metadata": {
            "tags": []
          }
        }
      ]
    },
    {
      "cell_type": "markdown",
      "metadata": {
        "id": "LpffX-nZaKCr"
      },
      "source": [
        "## Example 5 ##\n",
        "Sodium borohydride is a potential fuel for fuel cell. The following overpotential $(\\eta)$  vs. current $(i)$ data was obtained in a study conducted to evaluate its electrochemical kinetics.\n",
        "\n",
        "|$\\eta(V)$ |-0.29569|-0.24346|-0.19012| -0.18772|-0.13407|-0.0861|\n",
        "|---|---|---| ---|---|---|---|\n",
        "|$i (A)$|0.00226|0.00212|0.00206|0.00202|0.00199|0.00195|\n",
        "\n",
        "At the conditions of the study, it is unknown that the relationship that exists between the overpotential $(\\eta)$ and current $(i)$ can be expressed as $$\\eta = a + bln(i)$$ where $a$ is an electrochemical kinteics parameter of borohydride on the electrode. Use the data in the table above  to evaluate the values of $a$ and $b$."
      ]
    },
    {
      "cell_type": "code",
      "metadata": {
        "id": "_LHBqGGQh1_e"
      },
      "source": [
        "#Solution code for example 5\n",
        "eta = np.array([-0.29569,\t-0.24346,\t-0.19012,\t-0.18772,\t-0.13407,\t-0.0861])\n",
        "current = np.array([0.00226,\t0.00212,\t0.00206,\t0.00202,\t0.00199,\t0.00195])\n",
        "\n",
        "plt.plot(current, eta, label='Original Data', marker = \"o\", linestyle=\"None\")\n",
        "plt.title('Electrochemical Kinetics of boro hydride')\n",
        "plt.xlabel('Eta (Volt)')\n",
        "plt.ylabel('Current (Ampere)')\n",
        "plt.legend()\n",
        "plt.show()"
      ],
      "execution_count": null,
      "outputs": []
    },
    {
      "cell_type": "code",
      "metadata": {
        "id": "WVItD3J1iRVb"
      },
      "source": [
        "def electrokinetic_regression(current, eta):\n",
        "    x = np.log(current)\n",
        "    y = eta\n",
        "    [b, a]=least_square_method(x, y)\n",
        "\n",
        "    print(b,a)\n",
        "    \n",
        "    y1=[]\n",
        "    n=len(current)\n",
        "    for i in range(n):\n",
        "        y1.append(a +b*np.log(current[i]))\n",
        "    \n",
        "    print(y1)\n",
        "    \n",
        "    plt.plot(current, eta, marker='*', color='b', label='Original Points')\n",
        "    plt.plot(current, y1, marker='*', color='r', label='Regression')\n",
        "    plt.title('Radioactive decay with time')\n",
        "    plt.xlabel('Time (hour)')\n",
        "    plt.ylabel('Remaining amount')\n",
        "    plt.legend()\n",
        "    plt.show"
      ],
      "execution_count": null,
      "outputs": []
    },
    {
      "cell_type": "code",
      "metadata": {
        "id": "-QzCC5YTlx0i",
        "outputId": "fa3c8f1a-a929-4cb8-b92f-0acde7aea710",
        "colab": {
          "base_uri": "https://localhost:8080/",
          "height": 329
        }
      },
      "source": [
        "electrokinetic_regression(current, eta)"
      ],
      "execution_count": null,
      "outputs": [
        {
          "output_type": "stream",
          "text": [
            "-1.3604787061462449 -8.601362712484043\n",
            "[-0.3127952143735886, -0.2257943362697059, -0.18673484856545386, -0.16005794078149016, -0.13970127112204445, -0.11207638888771854]\n"
          ],
          "name": "stdout"
        },
        {
          "output_type": "display_data",
          "data": {
            "image/png": "[encoded data removed]",
            "text/plain": [
              "<Figure size 432x288 with 1 Axes>"
            ]
          },
          "metadata": {
            "tags": []
          }
        }
      ]
    },
    {
      "cell_type": "markdown",
      "metadata": {
        "id": "b9HvZCHooGpi"
      },
      "source": [
        "## Example 6##\n",
        "The progress of a homogeneous chemical reaction is followed and it is desired to evaluate the rate constant and the order of the reaction. The rate law expression for the reaction is known to follow the power function form $$-r = kC^{n}$$\n",
        "\t \t\t\t\t\t\t\t\t                       (35)\n",
        "Use the data provided in the table to obtain $n$ and $k$ .\n",
        "\n",
        "|$C_{A}(gmol/l)$|4|2.25|1.45|1.0|0.65|0.25|0.006|\n",
        "|---|---|---|---|---|---|---|---|\n",
        "|$-r_{A} (gmol/l.s)$|0.398|0.298|0.238|0.198|0.158|0.098|0.048\n",
        "\n",
        "\n"
      ]
    },
    {
      "cell_type": "markdown",
      "metadata": {
        "id": "t35oajjUpa5I"
      },
      "source": [
        "## Solution##\n",
        "Taking the natural log o fboth sides of the given equation, we obtain\n",
        "$$ln(-r) = ln(k) + nln(C)$$\n",
        "let $$z = ln(-r)$$\n",
        "$$w = ln(C)$$\n",
        "$$a_{0} = ln(k)$$\n",
        "Therefore $k = e^{a_{0}}$ and $a_{1} = n$\n",
        "Therefore we get the following linear model for regression. \n",
        "$$z = a_{0} + a_{1}w$$"
      ]
    },
    {
      "cell_type": "code",
      "metadata": {
        "id": "up8AcAoRl0DB",
        "outputId": "bb4bebd7-14fc-4943-e557-62b20bf2e580",
        "colab": {
          "base_uri": "https://localhost:8080/",
          "height": 346
        }
      },
      "source": [
        "# Solution code\n",
        "C = np.array([4,\t2.25,\t1.45,\t1.0,\t0.65,\t0.25,\t0.006])\n",
        "r = np.array([0.398,\t0.298,\t0.238,\t0.198,\t0.158,\t0.098,\t0.048])\n",
        "\n",
        "z = np.log(r)\n",
        "w = np.log(C)\n",
        "[a1, a0]=least_square_method(w, z)\n",
        "print(a1, a0)\n",
        "\n",
        "k= np.exp(a0)\n",
        "n = a1    \n",
        "y1=[]\n",
        "m=len(C)\n",
        "for i in range(m):\n",
        "    y1.append(k*np.power(C[i], n))\n",
        "    \n",
        "print(y1)\n",
        "    \n",
        "plt.plot(C, r, marker='*', color='b', label='Original Points')\n",
        "plt.plot(C, y1, marker='*', color='r', label='Regression')\n",
        "plt.title('Chemical Kinetics of borohydrate')\n",
        "plt.xlabel('Concentration')\n",
        "plt.ylabel('Reactin rate')\n",
        "plt.legend()\n",
        "plt.show"
      ],
      "execution_count": null,
      "outputs": [
        {
          "output_type": "stream",
          "text": [
            "0.3194053297455961 -1.5710663370762592\n",
            "[0.32359047473456665, 0.26926724843298566, 0.2340110466547306, 0.20782345430496757, 0.18110818910214463, 0.1334729898791895, 0.0405531156878206]\n"
          ],
          "name": "stdout"
        },
        {
          "output_type": "execute_result",
          "data": {
            "text/plain": [
              "<function matplotlib.pyplot.show>"
            ]
          },
          "metadata": {
            "tags": []
          },
          "execution_count": 21
        },
        {
          "output_type": "display_data",
          "data": {
            "image/png": "[encoded data removed]",
            "text/plain": [
              "<Figure size 432x288 with 1 Axes>"
            ]
          },
          "metadata": {
            "tags": []
          }
        }
      ]
    },
    {
      "cell_type": "code",
      "metadata": {
        "id": "OWeki7qlXqb9"
      },
      "source": [
        ""
      ],
      "execution_count": null,
      "outputs": []
    }
  ]
}