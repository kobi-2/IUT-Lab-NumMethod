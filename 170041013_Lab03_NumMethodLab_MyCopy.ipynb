{
  "nbformat": 4,
  "nbformat_minor": 0,
  "metadata": {
    "colab": {
      "name": "170041013-Lab03-NumMethodLab_MyCopy.ipynb",
      "provenance": [],
      "collapsed_sections": [],
      "authorship_tag": "ABX9TyPQfvFQbDnRk3EarHMzjMnB",
      "include_colab_link": true
    },
    "kernelspec": {
      "name": "python3",
      "display_name": "Python 3"
    }
  },
  "cells": [
    {
      "cell_type": "markdown",
      "metadata": {
        "id": "view-in-github",
        "colab_type": "text"
      },
      "source": [
        "<a href=\"https://colab.research.google.com/github/kobi-2/IUT-Lab-NumMethod/blob/main/170041013_Lab03_NumMethodLab_MyCopy.ipynb\" target=\"_parent\"><img src=\"https://colab.research.google.com/assets/colab-badge.svg\" alt=\"Open In Colab\"/></a>"
      ]
    },
    {
      "cell_type": "markdown",
      "metadata": {
        "id": "K4EEn3J1jJXE"
      },
      "source": [
        "# Lab03 - Group 1\n",
        "\n",
        "Task: Implementing Non Linear Polynomial Regression for the order of n. "
      ]
    },
    {
      "cell_type": "code",
      "metadata": {
        "id": "cGf-14lQerPa"
      },
      "source": [
        "import numpy as np\n",
        "import matplotlib.pyplot as plt"
      ],
      "execution_count": null,
      "outputs": []
    },
    {
      "cell_type": "markdown",
      "metadata": {
        "id": "AmsqIqPvliVj"
      },
      "source": [
        "### Defining function for Non-Linear Polynomial:"
      ]
    },
    {
      "cell_type": "code",
      "metadata": {
        "id": "ezpIiykrezQo"
      },
      "source": [
        "def nonLinearPolynomialCoefficient(t, alpha, order=2):\n",
        "    n = len(t)\n",
        "    a = np.zeros((order+1, order+1))\n",
        "    b = np.zeros((order+1, 1))\n",
        "\n",
        "    for i in range(order+1):\n",
        "        for j in range(order+1):\n",
        "            a[i][j] = np.sum(np.power(t, i+j))\n",
        "    a[0][0] = n\n",
        "\n",
        "    for i in range(order+1):\n",
        "        b[i][0] = np.sum(np.power(t, i) * alpha)\n",
        "    \n",
        "    result = np.matmul(np.linalg.inv(a), b)\n",
        "    # print(result)\n",
        "    return result"
      ],
      "execution_count": null,
      "outputs": []
    },
    {
      "cell_type": "markdown",
      "metadata": {
        "id": "wY6DlxtEluli"
      },
      "source": [
        "### Input: "
      ]
    },
    {
      "cell_type": "code",
      "metadata": {
        "id": "Dn8qotYheusC"
      },
      "source": [
        "t = np.array([80, 40, -40, -120, -200, -280, -340])\n",
        "alpha = np.array([6.47e-6, 6.24e-6, 5.72e-6, 5.09e-6, 4.30e-6, 3.33e-6, 2.45e-6])"
      ],
      "execution_count": null,
      "outputs": []
    },
    {
      "cell_type": "markdown",
      "metadata": {
        "id": "u4LE61kjlznT"
      },
      "source": [
        "### Calling function to calculate Coeffticient and printing out the result: "
      ]
    },
    {
      "cell_type": "code",
      "metadata": {
        "id": "ZfUIWB0Lfjpi",
        "outputId": "db547064-1ee0-4a1b-e5a4-34bf2d1a9c85",
        "colab": {
          "base_uri": "https://localhost:8080/"
        }
      },
      "source": [
        "#@title Define order\n",
        "order =  3#@param {type:\"number\"}\n",
        "\n",
        "coeff_result = nonLinearPolynomialCoefficient(t,alpha, order)\n",
        "print(\"coefficient result: \\n\", coeff_result)"
      ],
      "execution_count": null,
      "outputs": [
        {
          "output_type": "stream",
          "text": [
            "coefficient result: \n",
            " [[ 5.99241808e-06]\n",
            " [ 6.47662777e-09]\n",
            " [-7.38218036e-12]\n",
            " [ 1.23797271e-14]]\n"
          ],
          "name": "stdout"
        }
      ]
    },
    {
      "cell_type": "markdown",
      "metadata": {
        "id": "hfhOml1T4Kly"
      },
      "source": [
        "### Printing the Nonlinear Polynomial Expression: "
      ]
    },
    {
      "cell_type": "code",
      "metadata": {
        "id": "Q-p_di4VxZFx",
        "outputId": "81dff0fe-0f13-4f0e-94aa-4f2bbe6a8d9f",
        "colab": {
          "base_uri": "https://localhost:8080/"
        }
      },
      "source": [
        "print('The expression for the Nonlinear Polyomial Regression is: \\n')\n",
        "for i in range(len(coeff_result)):\n",
        "  if i == 0:\n",
        "    print(coeff_result[i,0])\n",
        "  else:\n",
        "    print(' + ', coeff_result[i,0], '* t ^ ', i)\n"
      ],
      "execution_count": null,
      "outputs": [
        {
          "output_type": "stream",
          "text": [
            "The expression for the Nonlinear Polyomial Regression is: \n",
            "\n",
            "5.992418078444375e-06\n",
            " +  6.476627771993752e-09 * t ^  1\n",
            " +  -7.382180364072195e-12 * t ^  2\n",
            " +  1.237972714361739e-14 * t ^  3\n"
          ],
          "name": "stdout"
        }
      ]
    },
    {
      "cell_type": "markdown",
      "metadata": {
        "id": "SKvI82Ap5Lgj"
      },
      "source": [
        "### Function for calculating value with Nonlinear Regression, given coefficient and single input T: "
      ]
    },
    {
      "cell_type": "code",
      "metadata": {
        "id": "mR-EVXiTzd75"
      },
      "source": [
        "def nonLinearPolynomialApprox(coefficient, t=80):\n",
        "  coeff = np.array(coefficient)\n",
        "  len_coeff = len(coefficient)\n",
        "  \n",
        "  # print('len of coeff: ', len_coeff)\n",
        "  # print(coeff)\n",
        "\n",
        "  t_new = np.ones((len_coeff,1))\n",
        "  for i in range (len_coeff):\n",
        "    t_new[i][0] = np.power(t,i)\n",
        "\n",
        "  # print('len of t_new: ', len(t_new))\n",
        "  # print(t_new)\n",
        "\n",
        "  # print(coeff*t_new)\n",
        "  return np.sum(coeff*t_new)\n"
      ],
      "execution_count": null,
      "outputs": []
    },
    {
      "cell_type": "code",
      "metadata": {
        "id": "un9zP1B24owS",
        "outputId": "b9f74d6d-114f-4d5d-ee23-2eed4a4823f9",
        "colab": {
          "base_uri": "https://localhost:8080/"
        }
      },
      "source": [
        "#@title Input T to calculate Nonlinear Regression Approximation:  \n",
        "param_t = 80 #@param {type:\"number\"}\n",
        "\n",
        "apprx_result = nonLinearPolynomialApprox(coeff_result, param_t)\n",
        "print('The approximated result with Nonlinear Regression model for order =', order , 'and given input t =', param_t, '  is:', apprx_result)"
      ],
      "execution_count": null,
      "outputs": [
        {
          "output_type": "stream",
          "text": [
            "The approximated result with Nonlinear Regression model for order = 3 and given input t = 80   is: 6.469640766171345e-06\n"
          ],
          "name": "stdout"
        }
      ]
    },
    {
      "cell_type": "markdown",
      "metadata": {
        "id": "_mGmu4G3541F"
      },
      "source": [
        "### Calculating Nonlinear Polynomial for all T: "
      ]
    },
    {
      "cell_type": "code",
      "metadata": {
        "id": "UxxCq7i353qC",
        "outputId": "ff927e21-6857-484e-eb56-0d3d90df6e54",
        "colab": {
          "base_uri": "https://localhost:8080/"
        }
      },
      "source": [
        "nonLinearPol_results = np.zeros((len(t),1))\n",
        "t_temp = np.array(t)\n",
        "for i in range(len(t)):\n",
        "  nonLinearPol_results[i][0] = nonLinearPolynomialApprox(coeff_result, t_temp[i])\n",
        "\n",
        "print(nonLinearPol_results)"
      ],
      "execution_count": null,
      "outputs": [
        {
          "output_type": "stream",
          "text": [
            "[[6.46964077e-06]\n",
            " [6.24046400e-06]\n",
            " [5.72074918e-06]\n",
            " [5.08752718e-06]\n",
            " [4.30276749e-06]\n",
            " [3.32843959e-06]\n",
            " [2.45041179e-06]]\n"
          ],
          "name": "stdout"
        }
      ]
    },
    {
      "cell_type": "code",
      "metadata": {
        "id": "B5HhfNJztrfm",
        "outputId": "7413aee8-554d-4dc0-865e-fb151fd4dab0",
        "colab": {
          "base_uri": "https://localhost:8080/",
          "height": 295
        }
      },
      "source": [
        "plt.plot(t, alpha, label='Approximation from Given Data', color='r', marker='x', linestyle='-')\n",
        "plt.plot(t,nonLinearPol_results, label = 'Nonlinear Polynomial Approximation', color='b', marker='.', linestyle=':')\n",
        "plt.title('T vs Alpha')\n",
        "plt.xlabel('Temperature')\n",
        "plt.ylabel('Coefficient')\n",
        "plt.legend()\n",
        "plt.show()"
      ],
      "execution_count": null,
      "outputs": [
        {
          "output_type": "display_data",
          "data": {
            "image/png": "[encoded data removed]",
            "text/plain": [
              "<Figure size 432x288 with 1 Axes>"
            ]
          },
          "metadata": {
            "tags": [],
            "needs_background": "light"
          }
        }
      ]
    }
  ]
}