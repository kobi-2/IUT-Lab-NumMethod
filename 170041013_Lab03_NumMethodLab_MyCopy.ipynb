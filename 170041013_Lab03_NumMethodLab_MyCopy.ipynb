{
  "nbformat": 4,
  "nbformat_minor": 0,
  "metadata": {
    "colab": {
      "name": "170041013-Lab03-NumMethodLab_MyCopy.ipynb",
      "provenance": [],
      "collapsed_sections": [],
      "authorship_tag": "ABX9TyNI/TUWYSES/pRXlVrNbNri",
      "include_colab_link": true
    },
    "kernelspec": {
      "name": "python3",
      "display_name": "Python 3"
    }
  },
  "cells": [
    {
      "cell_type": "markdown",
      "metadata": {
        "id": "view-in-github",
        "colab_type": "text"
      },
      "source": [
        "<a href=\"https://colab.research.google.com/github/kobi-2/IUT-Lab-NumMethod/blob/main/170041013_Lab03_NumMethodLab_MyCopy.ipynb\" target=\"_parent\"><img src=\"https://colab.research.google.com/assets/colab-badge.svg\" alt=\"Open In Colab\"/></a>"
      ]
    },
    {
      "cell_type": "markdown",
      "metadata": {
        "id": "K4EEn3J1jJXE"
      },
      "source": [
        "# Lab03 - Group 1\n",
        "\n",
        "Task: Implementing Non Linear Polynomial Regression for the order of n. "
      ]
    },
    {
      "cell_type": "code",
      "metadata": {
        "id": "cGf-14lQerPa"
      },
      "source": [
        "import numpy as np\n",
        "import matplotlib.pyplot as plt"
      ],
      "execution_count": null,
      "outputs": []
    },
    {
      "cell_type": "markdown",
      "metadata": {
        "id": "AmsqIqPvliVj"
      },
      "source": [
        "### Defining function for Non-Linear Polynomial:"
      ]
    },
    {
      "cell_type": "code",
      "metadata": {
        "id": "ezpIiykrezQo"
      },
      "source": [
        "def nonLinearPolynomialCoefficient(t, alpha, order=2):\n",
        "    n = len(t)\n",
        "    a = np.zeros((order+1, order+1))\n",
        "    b = np.zeros((order+1, 1))\n",
        "\n",
        "    for i in range(order+1):\n",
        "        for j in range(order+1):\n",
        "            a[i][j] = np.sum(np.power(t, i+j))\n",
        "    a[0][0] = n\n",
        "\n",
        "    for i in range(order+1):\n",
        "        b[i][0] = np.sum(np.power(t, i) * alpha)\n",
        "    \n",
        "    result = np.matmul(np.linalg.inv(a), b)\n",
        "    # print(result)\n",
        "    return result"
      ],
      "execution_count": null,
      "outputs": []
    },
    {
      "cell_type": "markdown",
      "metadata": {
        "id": "wY6DlxtEluli"
      },
      "source": [
        "### Input: "
      ]
    },
    {
      "cell_type": "code",
      "metadata": {
        "id": "Dn8qotYheusC"
      },
      "source": [
        "t = np.array([80, 40, -40, -120, -200, -280, -340])\n",
        "alpha = np.array([6.47e-6, 6.24e-6, 5.72e-6, 5.09e-6, 4.30e-6, 3.33e-6, 2.45e-6])"
      ],
      "execution_count": null,
      "outputs": []
    },
    {
      "cell_type": "markdown",
      "metadata": {
        "id": "u4LE61kjlznT"
      },
      "source": [
        "### Calling function to calculate Coeffticient and printing out the result: "
      ]
    },
    {
      "cell_type": "code",
      "metadata": {
        "id": "ZfUIWB0Lfjpi",
        "outputId": "a14e9187-fc8f-4c2e-f31c-5a7c3d41ee62",
        "colab": {
          "base_uri": "https://localhost:8080/"
        }
      },
      "source": [
        "#@title Define order\n",
        "order =  15#@param {type:\"number\"}\n",
        "\n",
        "coeff_result = nonLinearPolynomialCoefficient(t,alpha, order)\n",
        "print(\"coefficient result: \\n\", coeff_result)"
      ],
      "execution_count": null,
      "outputs": [
        {
          "output_type": "stream",
          "text": [
            "coefficient result: \n",
            " [[-2.07071189e-05]\n",
            " [-4.27823981e-05]\n",
            " [-5.02926634e-05]\n",
            " [-1.90487791e-05]\n",
            " [-1.68081539e-05]\n",
            " [-8.10551503e-06]\n",
            " [-1.91057537e-05]\n",
            " [-1.78757129e-05]\n",
            " [-1.43589725e-05]\n",
            " [-1.82506845e-05]\n",
            " [-1.23526777e-05]\n",
            " [ 2.47368800e-06]\n",
            " [ 6.86457659e-07]\n",
            " [-2.46691854e-06]\n",
            " [-9.12083489e-06]\n",
            " [-9.02672275e-06]]\n"
          ],
          "name": "stdout"
        }
      ]
    },
    {
      "cell_type": "markdown",
      "metadata": {
        "id": "hfhOml1T4Kly"
      },
      "source": [
        "### Printing the Nonlinear Polynomial Expression: "
      ]
    },
    {
      "cell_type": "code",
      "metadata": {
        "id": "Q-p_di4VxZFx",
        "outputId": "793b12eb-e3e4-499f-cc9e-0de527169e75",
        "colab": {
          "base_uri": "https://localhost:8080/"
        }
      },
      "source": [
        "print('The expression for the Nonlinear Polyomial Regression is: \\n')\n",
        "for i in range(len(coeff_result)):\n",
        "  if i == 0:\n",
        "    print(coeff_result[i,0])\n",
        "  else:\n",
        "    print(' + ', coeff_result[i,0], '* t ^ ', i)\n"
      ],
      "execution_count": null,
      "outputs": [
        {
          "output_type": "stream",
          "text": [
            "The expression for the Nonlinear Polyomial Regression is: \n",
            "\n",
            "-2.0707118885483045e-05\n",
            " +  -4.278239809604396e-05 * t ^  1\n",
            " +  -5.0292663390343756e-05 * t ^  2\n",
            " +  -1.9048779104953866e-05 * t ^  3\n",
            " +  -1.6808153901144523e-05 * t ^  4\n",
            " +  -8.105515032837556e-06 * t ^  5\n",
            " +  -1.9105753678333712e-05 * t ^  6\n",
            " +  -1.7875712879886647e-05 * t ^  7\n",
            " +  -1.43589725146658e-05 * t ^  8\n",
            " +  -1.8250684549921004e-05 * t ^  9\n",
            " +  -1.2352677731013006e-05 * t ^  10\n",
            " +  2.4736880029716633e-06 * t ^  11\n",
            " +  6.864576585199811e-07 * t ^  12\n",
            " +  -2.4669185401092215e-06 * t ^  13\n",
            " +  -9.120834892600112e-06 * t ^  14\n",
            " +  -9.026722748679367e-06 * t ^  15\n"
          ],
          "name": "stdout"
        }
      ]
    },
    {
      "cell_type": "markdown",
      "metadata": {
        "id": "SKvI82Ap5Lgj"
      },
      "source": [
        "### Function for calculating value with Nonlinear Regression, given coefficient and single input T: "
      ]
    },
    {
      "cell_type": "code",
      "metadata": {
        "id": "mR-EVXiTzd75"
      },
      "source": [
        "def nonLinearPolynomialApprox(coefficient, t=80):\n",
        "  coeff = np.array(coefficient)\n",
        "  len_coeff = len(coefficient)\n",
        "  \n",
        "  # print('len of coeff: ', len_coeff)\n",
        "  # print(coeff)\n",
        "\n",
        "  t_new = np.ones((len_coeff,1))\n",
        "  for i in range (len_coeff):\n",
        "    t_new[i][0] = np.power(t,i)\n",
        "\n",
        "  # print('len of t_new: ', len(t_new))\n",
        "  # print(t_new)\n",
        "\n",
        "  # print(coeff*t_new)\n",
        "  return np.sum(coeff*t_new)\n"
      ],
      "execution_count": null,
      "outputs": []
    },
    {
      "cell_type": "code",
      "metadata": {
        "id": "un9zP1B24owS",
        "outputId": "54dbe4f9-b684-48f8-be87-e961db3bd82d",
        "colab": {
          "base_uri": "https://localhost:8080/"
        }
      },
      "source": [
        "#@title Input T to calculate Nonlinear Regression Approximation:  \n",
        "param_t = 80 #@param {type:\"number\"}\n",
        "\n",
        "apprx_result = nonLinearPolynomialApprox(coeff_result, param_t)\n",
        "print('The approximated result with Nonlinear Regression model for order =', order , 'and given input t =', param_t, '  is:', apprx_result)"
      ],
      "execution_count": null,
      "outputs": [
        {
          "output_type": "stream",
          "text": [
            "The approximated result with Nonlinear Regression model for order = 15 and given input t = 80   is: 112784223147778.47\n"
          ],
          "name": "stdout"
        }
      ]
    },
    {
      "cell_type": "markdown",
      "metadata": {
        "id": "_mGmu4G3541F"
      },
      "source": [
        "### Calculating Nonlinear Polynomial for all T: "
      ]
    },
    {
      "cell_type": "code",
      "metadata": {
        "id": "UxxCq7i353qC",
        "outputId": "2f33826c-aa71-4a6d-8cc1-373646f18c67",
        "colab": {
          "base_uri": "https://localhost:8080/"
        }
      },
      "source": [
        "nonLinearPol_results = np.zeros((len(t),1))\n",
        "t_temp = np.array(t)\n",
        "for i in range(len(t)):\n",
        "  nonLinearPol_results[i][0] = nonLinearPolynomialApprox(coeff_result, t_temp[i])\n",
        "\n",
        "print(nonLinearPol_results)"
      ],
      "execution_count": null,
      "outputs": [
        {
          "output_type": "stream",
          "text": [
            "[[ 1.12784223e+14]\n",
            " [ 6.71307462e+12]\n",
            " [-7.37117604e+13]\n",
            " [ 2.04786000e+14]\n",
            " [-1.11919614e+14]\n",
            " [ 7.70588346e+13]\n",
            " [ 1.35065312e+14]]\n"
          ],
          "name": "stdout"
        }
      ]
    },
    {
      "cell_type": "code",
      "metadata": {
        "id": "B5HhfNJztrfm",
        "outputId": "16801288-2197-48b3-83cc-3ad935478667",
        "colab": {
          "base_uri": "https://localhost:8080/",
          "height": 295
        }
      },
      "source": [
        "plt.plot(t, alpha, label='Approximation from Given Data', color='r', marker='x', linestyle='-')\n",
        "plt.plot(t,nonLinearPol_results, label = 'Nonlinear Polynomial Approximation', color='b', marker='.', linestyle=':')\n",
        "plt.title('T vs Alpha')\n",
        "plt.xlabel('Temperature')\n",
        "plt.ylabel('Coefficient')\n",
        "plt.legend()\n",
        "plt.show()"
      ],
      "execution_count": null,
      "outputs": [
        {
          "output_type": "display_data",
          "data": {
            "image/png": "[encoded data removed]",
            "text/plain": [
              "<Figure size 432x288 with 1 Axes>"
            ]
          },
          "metadata": {
            "tags": [],
            "needs_background": "light"
          }
        }
      ]
    }
  ]
}