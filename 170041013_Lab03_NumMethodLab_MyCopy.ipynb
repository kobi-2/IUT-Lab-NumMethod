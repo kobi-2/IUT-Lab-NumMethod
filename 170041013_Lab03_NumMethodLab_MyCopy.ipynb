{
  "nbformat": 4,
  "nbformat_minor": 0,
  "metadata": {
    "colab": {
      "name": "170041013-Lab03-NumMethodLab_MyCopy.ipynb",
      "provenance": [],
      "collapsed_sections": [],
      "authorship_tag": "ABX9TyM0I0nA0xReDDUZWAFuHv+x",
      "include_colab_link": true
    },
    "kernelspec": {
      "name": "python3",
      "display_name": "Python 3"
    }
  },
  "cells": [
    {
      "cell_type": "markdown",
      "metadata": {
        "id": "view-in-github",
        "colab_type": "text"
      },
      "source": [
        "<a href=\"https://colab.research.google.com/github/kobi-2/IUT-Lab-NumMethod/blob/main/170041013_Lab03_NumMethodLab_MyCopy.ipynb\" target=\"_parent\"><img src=\"https://colab.research.google.com/assets/colab-badge.svg\" alt=\"Open In Colab\"/></a>"
      ]
    },
    {
      "cell_type": "markdown",
      "metadata": {
        "id": "K4EEn3J1jJXE"
      },
      "source": [
        "# Lab02 - Group 1\n",
        "\n",
        "Task: Implementing Non Linear Polynomial Regression for the order of n. "
      ]
    },
    {
      "cell_type": "code",
      "metadata": {
        "id": "cGf-14lQerPa"
      },
      "source": [
        "import numpy as np"
      ],
      "execution_count": null,
      "outputs": []
    },
    {
      "cell_type": "markdown",
      "metadata": {
        "id": "AmsqIqPvliVj"
      },
      "source": [
        "### Defining function for Non-Linear Polynomial:"
      ]
    },
    {
      "cell_type": "code",
      "metadata": {
        "id": "ezpIiykrezQo"
      },
      "source": [
        "def nonLinearPolynomial(t, alpha, order=2):\n",
        "    n = len(t)\n",
        "    a = np.zeros((order+1, order+1))\n",
        "    b = np.zeros((order+1, 1))\n",
        "\n",
        "    for i in range(order+1):\n",
        "        for j in range(order+1):\n",
        "            a[i][j] = np.sum(np.power(t, i+j))\n",
        "    a[0][0] = n\n",
        "\n",
        "    for i in range(order+1):\n",
        "        b[i][0] = np.sum(np.power(t, i) * alpha)\n",
        "    \n",
        "    result = np.matmul(np.linalg.inv(a), b)\n",
        "    # print(result)\n",
        "    return result"
      ],
      "execution_count": null,
      "outputs": []
    },
    {
      "cell_type": "markdown",
      "metadata": {
        "id": "wY6DlxtEluli"
      },
      "source": [
        "### Input: "
      ]
    },
    {
      "cell_type": "code",
      "metadata": {
        "id": "Dn8qotYheusC"
      },
      "source": [
        "t = np.array([80, 40, -40, -120, -200, -280, -340])\n",
        "alpha = np.array([6.47e-6, 6.24e-6, 5.72e-6, 5.09e-6, 4.30e-6, 3.33e-6, 2.45e-6])"
      ],
      "execution_count": null,
      "outputs": []
    },
    {
      "cell_type": "markdown",
      "metadata": {
        "id": "u4LE61kjlznT"
      },
      "source": [
        "### Calling function and printing out the result: "
      ]
    },
    {
      "cell_type": "code",
      "metadata": {
        "id": "ZfUIWB0Lfjpi",
        "outputId": "7a1a9a9c-5dbe-4e65-930a-73b1344b0148",
        "colab": {
          "base_uri": "https://localhost:8080/"
        }
      },
      "source": [
        "#@title Define order\n",
        "order =  5#@param {type:\"number\"}\n",
        "\n",
        "result = nonLinearPolynomial(t,alpha, order)\n",
        "print(\"result: \\n\", result)"
      ],
      "execution_count": null,
      "outputs": [
        {
          "output_type": "stream",
          "text": [
            "result: \n",
            " [[ 6.02256616e-06]\n",
            " [ 6.26849131e-09]\n",
            " [-1.23510465e-11]\n",
            " [-7.58206756e-17]\n",
            " [ 2.61352868e-19]\n",
            " [-1.29921070e-21]]\n"
          ],
          "name": "stdout"
        }
      ]
    }
  ]
}