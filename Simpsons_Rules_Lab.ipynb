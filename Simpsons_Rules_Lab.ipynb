{
  "nbformat": 4,
  "nbformat_minor": 0,
  "metadata": {
    "colab": {
      "name": "Simpsons_Rules-Lab.ipynb",
      "provenance": [],
      "collapsed_sections": [],
      "include_colab_link": true
    },
    "kernelspec": {
      "display_name": "Python 3",
      "name": "python3"
    }
  },
  "cells": [
    {
      "cell_type": "markdown",
      "metadata": {
        "id": "view-in-github",
        "colab_type": "text"
      },
      "source": [
        "<a href=\"https://colab.research.google.com/github/kobi-2/IUT-Lab-NumMethod/blob/main/Simpsons_Rules_Lab.ipynb\" target=\"_parent\"><img src=\"https://colab.research.google.com/assets/colab-badge.svg\" alt=\"Open In Colab\"/></a>"
      ]
    },
    {
      "cell_type": "markdown",
      "metadata": {
        "id": "KSMVgSJnwhLx"
      },
      "source": [
        "## Task 01: \n",
        "Use the Multi Segment Simpsons 1/3 rule for finding Integral of the following function within the closed interval of $[0,1]$ and Plot the Relative Absolute Error for the different number of segments. The the integrad is as follows: \n",
        "$$ f(x) = 15\\sqrt{x^{3}} + 8\\sqrt[\\leftroot{-1}\\uproot{2}\\scriptstyle 3]{x^{2}} + x $$\n"
      ]
    },
    {
      "cell_type": "code",
      "metadata": {
        "id": "3WWZ69LpwT9d"
      },
      "source": [
        "from sympy import sympify, symbols, integrate\n",
        "import numpy as np\n",
        "import seaborn as sns\n",
        "import matplotlib.pyplot as plt\n",
        "%matplotlib inline\n",
        " \n",
        "\n",
        "x = symbols('x')\n",
        "\n",
        "\n",
        "# original simpsons 1/3 method\n",
        "def simpsons_one_third(f= None, a = 0, b = 1):  \n",
        "    h = (b-a)/2\n",
        "    one_third_result = (h/3) * (f.subs(x, a) + 4*f.subs(x,(a+b)/2) + f.subs(x,b) )   \n",
        "    return one_third_result\n",
        "\n",
        "# multisegment simpsons 1/3 method\n",
        "def multi_segment_simpsons_one_third(f, a=0, b=1, n=2):\n",
        "    if n%2 != 0:\n",
        "      print(\"Please pass n as multiple of 2\")\n",
        "      return None\n",
        "    h = (b-a)/n\n",
        "    multi_one_third_result = 0\n",
        "    for i in range(2,n+1, 2):\n",
        "      multi_one_third_result = multi_one_third_result + simpsons_one_third(f=f, a=a+(i-2)*h, b=a+i*h)\n",
        "    return multi_one_third_result \n",
        "\n",
        "# original simpsons 3/8 method\n",
        "def simpsons_three_eighth(f= None, a = 0, b = 1):  \n",
        "    h = (b-a)/3\n",
        "    three_eight_result = (h*3/8) * (f.subs(x, a) + 3*f.subs(x,a+h) + 3*f.subs(x,a+2*h) + f.subs(x,b) )  \n",
        "    return three_eight_result\n",
        "\n",
        "# multisegment simpsons 3/8 method\n",
        "def multi_segment_simpsons_three_eighth(f, a=0, b=1, n=0):\n",
        "    if n%3 != 0:\n",
        "      print(\"Please pass n as multiple of 3\")\n",
        "      return None\n",
        "    h = (b-a)/n\n",
        "    multi_three_eight_result = 0\n",
        "    for i in range(3,n+1, 3):\n",
        "      multi_three_eight_result = multi_three_eight_result + simpsons_three_eighth(f=f, a=a+(i-3)*h, b=a+i*h)\n",
        "    return multi_three_eight_result\n",
        "\n",
        "\n",
        "def combine_simpsons_rules(f, a=0, b=1, n=0):\n",
        "    if n%5 != 0:\n",
        "      print(\"Please pass n as multiple of 5\")\n",
        "      return None\n",
        "    h = (b-a)/n\n",
        "    comb_result = 0\n",
        "    for i in range( 0, (n//5) ):\n",
        "      _aa = a + i*5*h\n",
        "      comb_result = comb_result + simpsons_one_third(f=f, a=_aa, b=_aa+2*h)\n",
        "      comb_result = comb_result + simpsons_three_eighth(f=f, a=_aa+2*h, b=_aa+5*h)\n",
        "    return comb_result \n",
        "\n"
      ],
      "execution_count": null,
      "outputs": []
    },
    {
      "cell_type": "markdown",
      "metadata": {
        "id": "ajD9Pf48l1W3"
      },
      "source": [
        "# Input Parameters"
      ]
    },
    {
      "cell_type": "code",
      "metadata": {
        "id": "GmRaVyczK0VP"
      },
      "source": [
        "## experimental stuff: \r\n",
        "# h =1\r\n",
        "# n = 15\r\n",
        "# t = 0\r\n",
        "# for i in range(0, (n//5)):\r\n",
        "#     tt = t + i*5*h\r\n",
        "#     print(tt, \"\\t\", tt+2*h)\r\n",
        "#     print(tt+2*h, \"\\t\", tt+5*h)"
      ],
      "execution_count": null,
      "outputs": []
    },
    {
      "cell_type": "code",
      "metadata": {
        "colab": {
          "base_uri": "https://localhost:8080/"
        },
        "id": "7cX7sSZw1_YR",
        "outputId": "ca34bf94-7a92-4666-a400-34f5bc6dd163"
      },
      "source": [
        "# Testing Stub\n",
        "f = '15*(x^(1.5)) + 8*(x ^(0.6666667)) + x'\n",
        "[a,b] = [0,1] \n",
        "f = sympify(f)\n",
        "\n",
        "integral_f = integrate(f, x)\n",
        "original_value = integral_f.subs(x, 1)- integral_f.subs(x, 0)\n",
        "\n",
        "print(f'Given Integrad: {f}')\n",
        "print(f'Original Integration: {integral_f}')\n",
        "print('Original Result:', original_value) \n",
        "\n",
        "print(f'Numerical Prediction with simpsons 1/3 rule: {simpsons_one_third(f, a= a, b = b)}')\n",
        "print(f'Numerical Prediction with multiple segment simpsons 1/3 rule: {multi_segment_simpsons_one_third(f, a= a, b = b, n= 16)}')\n",
        "\n",
        "print(f'Numerical Prediction with simpsons 3/8 rule: {simpsons_three_eighth(f, a= a, b = b)}')\n",
        "print(f'Numerical Prediction with multiple segment simpsons 3/8 rule: {multi_segment_simpsons_three_eighth(f, a= a, b = b, n=15)}')\n",
        "\n",
        "print(f'Numerical Prediction with combined simpson\\'s rules : {combine_simpsons_rules(f, a= a, b = b, n=15)}')\n"
      ],
      "execution_count": null,
      "outputs": [
        {
          "output_type": "stream",
          "text": [
            "Given Integrad: 8*x**0.6666667 + x + 15*x**1.5\n",
            "Original Integration: x**2/2 + 4.799999904*x**1.6666667 + 6.0*x**2.5\n",
            "Original Result: 11.2999999040000\n",
            "Numerical Prediction with simpsons 1/3 rule: 11.2286566280248\n",
            "Numerical Prediction with multiple segment simpsons 1/3 rule: 11.2968442286354\n",
            "Numerical Prediction with simpsons 3/8 rule: 11.2510719048650\n",
            "Numerical Prediction with multiple segment simpsons 3/8 rule: 11.2956657629325\n",
            "Numerical Prediction with combined simpson's rules : 11.2964870175773\n"
          ],
          "name": "stdout"
        }
      ]
    },
    {
      "cell_type": "markdown",
      "metadata": {
        "id": "1clzp72lnXgf"
      },
      "source": [
        "# Error Calculation:"
      ]
    },
    {
      "cell_type": "code",
      "metadata": {
        "id": "HRPdThh1AV8X"
      },
      "source": [
        "errors_one_third, n_value_one_third = [ [] ,[] ]\n",
        "errors_three_eighth, n_value_three_eighth = [ [] ,[] ]\n",
        "errors_combine_rules, n_value_combine_rules = [ [] ,[] ]\n",
        "\n",
        "n_hyper_bound = 41\n",
        "for i in range(2, n_hyper_bound):\n",
        "  if i%2 == 0:\n",
        "    errors_one_third.append((original_value - multi_segment_simpsons_one_third(f, a= 0, b = 1, n= i))/original_value*100)\n",
        "    n_value_one_third.append(i)\n",
        "  if i%3 == 0:\n",
        "    errors_three_eighth.append((original_value - multi_segment_simpsons_three_eighth(f, a= 0, b = 1, n= i))/original_value*100)\n",
        "    n_value_three_eighth.append(i)\n",
        "  if i%5== 0:\n",
        "    errors_combine_rules.append((original_value - combine_simpsons_rules(f, a= 0, b = 1, n= i))/original_value*100)\n",
        "    n_value_combine_rules.append(i)"
      ],
      "execution_count": null,
      "outputs": []
    },
    {
      "cell_type": "markdown",
      "metadata": {
        "id": "ARTl-Bh0KOA4"
      },
      "source": [
        "# Error Plotting"
      ]
    },
    {
      "cell_type": "code",
      "metadata": {
        "colab": {
          "base_uri": "https://localhost:8080/",
          "height": 295
        },
        "id": "Ezh3loShA3IM",
        "outputId": "2bf399a8-9856-4913-fde0-3f80c39a2258"
      },
      "source": [
        "plt.Figure(figsize=(12,8), facecolor='black', linewidth=2)\n",
        "\n",
        "plt.plot(n_value_one_third, errors_one_third, color='red', linestyle='dashed', marker='*', markerfacecolor='red', markersize=10)\n",
        "\n",
        "plt.plot(n_value_three_eighth, errors_three_eighth, color='green', linestyle='dashed', marker='o', markerfacecolor='green', markersize=10)\n",
        "plt.plot(n_value_combine_rules, errors_combine_rules, color='blue', linestyle='dashed', marker='v', markerfacecolor='blue', markersize=10)\n",
        "plt.legend(['multi segment simpson\\'s 1/3', 'multi segment simpson\\'s 3/8', 'combine simpson\\'s rules'])\n",
        "\n",
        "plt.grid(axis = 'both')\n",
        "plt.xlabel(f'Intercepts: {n}')\n",
        "plt.ylabel('Relative True Error')\n",
        "plt.title('Error Analysis of Simpsons Methods')\n",
        "plt.show()"
      ],
      "execution_count": null,
      "outputs": [
        {
          "output_type": "display_data",
          "data": {
            "image/png": "[encoded data removed]",
            "text/plain": [
              "<Figure size 432x288 with 1 Axes>"
            ]
          },
          "metadata": {
            "tags": [],
            "needs_background": "light"
          }
        }
      ]
    }
  ]
}